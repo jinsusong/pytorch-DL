{
  "nbformat": 4,
  "nbformat_minor": 0,
  "metadata": {
    "colab": {
      "name": "PyTorch로 선형회귀 구현하기.ipynb",
      "private_outputs": true,
      "provenance": [],
      "collapsed_sections": [],
      "authorship_tag": "ABX9TyM+I7S+iLtuxI9Lo6XxN24y",
      "include_colab_link": true
    },
    "kernelspec": {
      "name": "python3",
      "display_name": "Python 3"
    },
    "language_info": {
      "name": "python"
    }
  },
  "cells": [
    {
      "cell_type": "markdown",
      "metadata": {
        "id": "view-in-github",
        "colab_type": "text"
      },
      "source": [
        "<a href=\"https://colab.research.google.com/github/jinsusong/study-pytorch-DL/blob/main/PyTorch%EB%A1%9C_%EC%84%A0%ED%98%95%ED%9A%8C%EA%B7%80_%EA%B5%AC%ED%98%84%ED%95%98%EA%B8%B0.ipynb\" target=\"_parent\"><img src=\"https://colab.research.google.com/assets/colab-badge.svg\" alt=\"Open In Colab\"/></a>"
      ]
    },
    {
      "cell_type": "markdown",
      "source": [
        "###파이토치로 선형 회귀 구현하기 \n"
      ],
      "metadata": {
        "id": "m_iDc9cp9V8U"
      }
    },
    {
      "cell_type": "markdown",
      "source": [
        "https://wikidocs.net/53560"
      ],
      "metadata": {
        "id": "Dz1ScEnHAgRL"
      }
    },
    {
      "cell_type": "markdown",
      "source": [
        "### 파이토치의 도구들을 임포트하는 기본 셋팅을 진행"
      ],
      "metadata": {
        "id": "bl_iQwfN9MVp"
      }
    },
    {
      "cell_type": "code",
      "source": [
        "import torch\n",
        "import torch.nn as nn\n",
        "import torch.nn.functional as F \n",
        "import torch.optim as optim \n",
        "\n"
      ],
      "metadata": {
        "id": "7ZFfY5lh9biI"
      },
      "execution_count": null,
      "outputs": []
    },
    {
      "cell_type": "code",
      "source": [
        "# 현재 실습하고 있는 파이썬 코드를 재실행해도 다음에도 같은 결과가 나오도록 랜덤 시드를 준다. \n",
        "torch.manual_seed(1)"
      ],
      "metadata": {
        "id": "fhQvCeTb9gpV"
      },
      "execution_count": null,
      "outputs": []
    },
    {
      "cell_type": "markdown",
      "source": [
        "### 실습을 위한 기본적인 셋팅은 끝났고, 다음으로 훈련 데이터인 x_train과 y_train을 선언한다. "
      ],
      "metadata": {
        "id": "YJ9wXxfs9mqB"
      }
    },
    {
      "cell_type": "code",
      "source": [
        "#변수 선언 \n",
        "x_train = torch.FloatTensor([[1],[2],[3]])\n",
        "y_train = torch.FloatTensor([[2],[4],[5]])\n",
        "\n"
      ],
      "metadata": {
        "id": "3pkgMc2M9s3C"
      },
      "execution_count": null,
      "outputs": []
    },
    {
      "cell_type": "code",
      "source": [
        "# x_train과 y_train의 크기를 출력해본다.\n",
        "print(x_train)\n",
        "print(x_train.shape)"
      ],
      "metadata": {
        "id": "-uDWvyrP98yU"
      },
      "execution_count": null,
      "outputs": []
    },
    {
      "cell_type": "code",
      "source": [
        "# x_train의 값이 출력되고 , x_train의 크기가 (3 x 1)임을 알 수 있다. \n",
        "# y_train과 y_train의 크기를 출력해본다. \n",
        "print(y_train)\n",
        "print(y_train.shape)"
      ],
      "metadata": {
        "id": "b1SFwhWc-CRk"
      },
      "execution_count": null,
      "outputs": []
    },
    {
      "cell_type": "code",
      "source": [
        "#y_train의 값이 출력되고 , y_train의 크기가 (3 x 1) 임을 알 수 있다. \n"
      ],
      "metadata": {
        "id": "RNZGbqFT-Prd"
      },
      "execution_count": null,
      "outputs": []
    },
    {
      "cell_type": "markdown",
      "source": [
        "### 가중치와 편향의 초기화 "
      ],
      "metadata": {
        "id": "tY7ehxKJ-YWs"
      }
    },
    {
      "cell_type": "markdown",
      "source": [
        "- 선형 회귀란 학습 데이터와 가장 잘 맞는 하나의 직선을 찾는 일 \n",
        "- 가장 잘 맞는 직선을 정의하는 것이 바로 W와 b이다. \n",
        "- 선형 회귀의 목표는 가장 잘 맞는 직선을 정의하는 W와 b를 찾는 것 \n"
      ],
      "metadata": {
        "id": "576rBu1q-asq"
      }
    },
    {
      "cell_type": "code",
      "source": [
        "# 가중치 W를 0으로 초기화하고 학습을 통해 값이 변경되는 변수임을 명시함. \n",
        "W = torch.zeros(1, requires_grad=True)\n",
        "# 가중치 W를 출력\n",
        "print(W)"
      ],
      "metadata": {
        "id": "WmoDf-PF-pNK"
      },
      "execution_count": null,
      "outputs": []
    },
    {
      "cell_type": "markdown",
      "source": [
        "- 가중치 W가 0으로 초기화됨.\n",
        "- requires_grad=True : 이 변수는 학습을 통해 계속 값이 변경되는 변수임을 의미 \n",
        "- 마찬가지로 편향 b도 0으로 초기화하고, 학습을 통해 값이 변경되는 변수임을 명시함."
      ],
      "metadata": {
        "id": "EvzFrlqH-0aj"
      }
    },
    {
      "cell_type": "code",
      "source": [
        "b = torch.zeros(1, requires_grad=True)\n",
        "print(b)\n"
      ],
      "metadata": {
        "id": "rK6un7CcA4V4"
      },
      "execution_count": null,
      "outputs": []
    },
    {
      "cell_type": "markdown",
      "source": [
        "- 현재 가중치 W와 b 둘 다 0 이므로 현 직선의 방정식은 다음과 같다. \n",
        "- y = 0 * x + 0\n",
        "- 지금 상태에서 x에 어떤 값이 들어가도 가설은 0을 예측하게 된다.\n",
        "- 즉, 아직 적절한 W와 b가 아니다."
      ],
      "metadata": {
        "id": "l340g-1eA8py"
      }
    },
    {
      "cell_type": "markdown",
      "source": [
        "###  가설 세우기 \n"
      ],
      "metadata": {
        "id": "uMS5z7hrBM4W"
      }
    },
    {
      "cell_type": "markdown",
      "source": [
        "- 파이토치 코드 상으로 직선의 방정식에 해당되는 가설을 선언한다.\n",
        "- H(x) = Wx + b \n"
      ],
      "metadata": {
        "id": "zbMuRF6YBOJz"
      }
    },
    {
      "cell_type": "code",
      "source": [
        "hypothesis = x_train * W + b \n",
        "print(hypothesis)"
      ],
      "metadata": {
        "id": "MhTCLgKQBUQ3"
      },
      "execution_count": null,
      "outputs": []
    },
    {
      "cell_type": "markdown",
      "source": [
        "### 비용 함수 선언하기 "
      ],
      "metadata": {
        "id": "7kV3Y-jYBXjI"
      }
    },
    {
      "cell_type": "markdown",
      "source": [
        "- 파이토치 코드 상으로 선형 회귀의 비용 함수에 해당되는 평균 제곱 오차를 선언한다. \n"
      ],
      "metadata": {
        "id": "rp6cFikNBbAJ"
      }
    },
    {
      "cell_type": "markdown",
      "source": [
        "![image.png](data:image/png;base64,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)"
      ],
      "metadata": {
        "id": "Q4buf38MBgsB"
      }
    },
    {
      "cell_type": "code",
      "source": [
        "# torch.mean으로 평균을 구한다. \n",
        "cost = torch.mean((hypothesis - y_train)**2)\n",
        "print(cost)"
      ],
      "metadata": {
        "id": "uQPPgtlNBiTn"
      },
      "execution_count": null,
      "outputs": []
    },
    {
      "cell_type": "markdown",
      "source": [
        "### 경사 하강법 구현하기 "
      ],
      "metadata": {
        "id": "PBYtSJMSBrXt"
      }
    },
    {
      "cell_type": "markdown",
      "source": [
        "- 경사 하강법을 구현한다. \n",
        "- SGD는 경사 하강법의 일종\n",
        "- lr은 학습률(learning rate)를 의미 \n",
        "- 학습 대상인 W와 b가 SGD의 입력이 된다 ."
      ],
      "metadata": {
        "id": "Sw-B7QezBy6D"
      }
    },
    {
      "cell_type": "code",
      "source": [
        "optimizer = optim.SGD([W, b], lr=0.01)"
      ],
      "metadata": {
        "id": "2ijXUgUcB9gI"
      },
      "execution_count": null,
      "outputs": []
    },
    {
      "cell_type": "markdown",
      "source": [
        "- optimizer.zero_grad()를 실행하므로서 미분을 통해 얻은 기울기를 0으로 초기화한다.\n",
        "- 기울기를 초기화해야만 새로운 가중치 편향에 대해서 새로운 기울기를 구할 수 있다.\n",
        "- 그 다음 cost.backward() 함수를 호출하면 가중치 W와 편향 b에 대한 기울기가 계산된다. \n",
        "- 그 다음 경사 하강법 최적화 함수 optimizer의 .step() 함수를 호출하여 인수로 들어갔던 W와 b에서 리턴되는 변수들의 기울기에 학습률 0.01을 곱하여 빼줌으로서 업데이트를 한다. \n"
      ],
      "metadata": {
        "id": "T1vXL-OGCBxi"
      }
    },
    {
      "cell_type": "code",
      "source": [
        "# gradient를 0으로 초기화 \n",
        "optimizer.zero_grad()\n",
        "# 비용 함수를 미분하여 gradient 계산\n",
        "cost.backward()\n",
        "# W와 b를 업데이트\n",
        "optimizer.step()\n",
        "\n"
      ],
      "metadata": {
        "id": "3po_-9b0DD_N"
      },
      "execution_count": null,
      "outputs": []
    },
    {
      "cell_type": "markdown",
      "source": [
        "- requires_grad=True 와 backward()에 대한 정리는 자동 미분(Autograd)에 별도 정리"
      ],
      "metadata": {
        "id": "TMRkf-vwDRCx"
      }
    },
    {
      "cell_type": "markdown",
      "source": [
        "### 전체 코드 "
      ],
      "metadata": {
        "id": "d1WNQ2_ADYvc"
      }
    },
    {
      "cell_type": "code",
      "source": [
        "# 데이터\n",
        "x_train = torch.FloatTensor([[1], [2], [3]])\n",
        "y_train = torch.FloatTensor([[2], [4], [6]])\n",
        "# 모델 초기화\n",
        "W = torch.zeros(1, requires_grad=True)\n",
        "b = torch.zeros(1, requires_grad=True)\n",
        "# optimizer 설정\n",
        "optimizer = optim.SGD([W, b], lr=0.01)\n",
        "\n",
        "nb_epochs = 1999 # 원하는만큼 경사 하강법을 반복\n",
        "for epoch in range(nb_epochs + 1):\n",
        "\n",
        "    # H(x) 계산\n",
        "    hypothesis = x_train * W + b\n",
        "\n",
        "    # cost 계산\n",
        "    cost = torch.mean((hypothesis - y_train) ** 2)\n",
        "\n",
        "    # cost로 H(x) 개선\n",
        "    optimizer.zero_grad()\n",
        "    cost.backward()\n",
        "    optimizer.step()\n",
        "\n",
        "    # 100번마다 로그 출력\n",
        "    if epoch % 100 == 0:\n",
        "        print('Epoch {:4d}/{} W: {:.3f}, b: {:.3f} Cost: {:.6f}'.format(\n",
        "            epoch, nb_epochs, W.item(), b.item(), cost.item()\n",
        "        ))"
      ],
      "metadata": {
        "id": "QPVDHOzNDcZ2"
      },
      "execution_count": null,
      "outputs": []
    },
    {
      "cell_type": "markdown",
      "source": [
        "- 결과적으로 훈련 과정에서 와 는 훈련 데이터와 잘 맞는 직선을 표현하기 위한 적절한 값으로 변화한다."
      ],
      "metadata": {
        "id": "E7FqzN3TDz5j"
      }
    },
    {
      "cell_type": "markdown",
      "source": [
        "- 에포크(Epoch)는 전체 훈련 데이터가 학습에 한 번 사용된 주기를 말한다.\n",
        "- 이번 실습의 경우 2,000번을 수행했습니다.\n",
        "\n",
        "- 최종 훈련 결과를 보면 최적의 기울기 W는 2에 가깝고, b는 0에 가까운 것을 볼 수 있습니다.\n",
        "- 현재 훈련 데이터가 x_train은 [[1], [2], [3]]이고 y_train은 [[2], [4], [6]]인 것을 감안하면\n",
        "- 실제 정답은 가 2이고, 가 0인 이므로 거의 정답을 찾은 셈입니다."
      ],
      "metadata": {
        "id": "VChfy7KBD5PT"
      }
    }
  ]
}