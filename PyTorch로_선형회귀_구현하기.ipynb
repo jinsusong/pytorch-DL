{
  "nbformat": 4,
  "nbformat_minor": 0,
  "metadata": {
    "colab": {
      "name": "PyTorch로 선형회귀 구현하기.ipynb",
      "private_outputs": true,
      "provenance": [],
      "authorship_tag": "ABX9TyNoJB1CyG+Mk+JP6nsPG/O4",
      "include_colab_link": true
    },
    "kernelspec": {
      "name": "python3",
      "display_name": "Python 3"
    },
    "language_info": {
      "name": "python"
    }
  },
  "cells": [
    {
      "cell_type": "markdown",
      "metadata": {
        "id": "view-in-github",
        "colab_type": "text"
      },
      "source": [
        "<a href=\"https://colab.research.google.com/github/jinsusong/study-pytorch-DL/blob/main/PyTorch%EB%A1%9C_%EC%84%A0%ED%98%95%ED%9A%8C%EA%B7%80_%EA%B5%AC%ED%98%84%ED%95%98%EA%B8%B0.ipynb\" target=\"_parent\"><img src=\"https://colab.research.google.com/assets/colab-badge.svg\" alt=\"Open In Colab\"/></a>"
      ]
    },
    {
      "cell_type": "markdown",
      "source": [
        "# 파이토치로 선형 회귀 구현하기 \n",
        "### https://wikidocs.net/53560"
      ],
      "metadata": {
        "id": "m_iDc9cp9V8U"
      }
    },
    {
      "cell_type": "markdown",
      "source": [
        "# 파이토치의 도구들을 임포트하는 기본 셋팅을 진행"
      ],
      "metadata": {
        "id": "bl_iQwfN9MVp"
      }
    },
    {
      "cell_type": "code",
      "source": [
        "import torch\n",
        "import torch.nn as nn\n",
        "import torch.nn.functional as F \n",
        "import torch.optim as optim \n",
        "\n"
      ],
      "metadata": {
        "id": "7ZFfY5lh9biI"
      },
      "execution_count": null,
      "outputs": []
    },
    {
      "cell_type": "code",
      "source": [
        "# 현재 실습하고 있는 파이썬 코드를 재실행해도 다음에도 같은 결과가 나오도록 랜덤 시드를 준다. \n",
        "torch.manual_seed(1)"
      ],
      "metadata": {
        "id": "fhQvCeTb9gpV"
      },
      "execution_count": null,
      "outputs": []
    },
    {
      "cell_type": "markdown",
      "source": [
        "# 실습을 위한 기본적인 셋팅은 끝났고, 다음으로 훈련 데이터인 x_train과 y_train을 선언한다. "
      ],
      "metadata": {
        "id": "YJ9wXxfs9mqB"
      }
    },
    {
      "cell_type": "code",
      "source": [
        "#변수 선언 \n",
        "x_train = torch.FloatTensor([[1],[2],[3]])\n",
        "y_train = torch.FloatTensor([[2],[4],[5]])\n",
        "\n"
      ],
      "metadata": {
        "id": "3pkgMc2M9s3C"
      },
      "execution_count": null,
      "outputs": []
    },
    {
      "cell_type": "code",
      "source": [
        "# x_train과 y_train의 크기를 출력해본다.\n",
        "print(x_train)\n",
        "print(x_train.shape)"
      ],
      "metadata": {
        "id": "-uDWvyrP98yU"
      },
      "execution_count": null,
      "outputs": []
    },
    {
      "cell_type": "code",
      "source": [
        "# x_train의 값이 출력되고 , x_train의 크기가 (3 x 1)임을 알 수 있다. \n",
        "# y_train과 y_train의 크기를 출력해본다. \n",
        "print(y_train)\n",
        "print(y_train.shape)"
      ],
      "metadata": {
        "id": "b1SFwhWc-CRk"
      },
      "execution_count": null,
      "outputs": []
    },
    {
      "cell_type": "code",
      "source": [
        "#y_train의 값이 출력되고 , y_train의 크기가 (3 x 1) 임을 알 수 있다. \n"
      ],
      "metadata": {
        "id": "RNZGbqFT-Prd"
      },
      "execution_count": null,
      "outputs": []
    },
    {
      "cell_type": "markdown",
      "source": [
        "# 가중치와 편향의 초기화 "
      ],
      "metadata": {
        "id": "tY7ehxKJ-YWs"
      }
    },
    {
      "cell_type": "markdown",
      "source": [
        "- 선형 회귀란 학습 데이터와 가장 잘 맞는 하나의 직선을 찾는 일 \n",
        "- 가장 잘 맞는 직선을 정의하는 것이 바로 W와 b이다. \n",
        "- 선형 회귀의 목표는 가장 잘 맞는 직선을 정의하는 W와 b를 찾는 것 \n"
      ],
      "metadata": {
        "id": "576rBu1q-asq"
      }
    },
    {
      "cell_type": "code",
      "source": [
        "# 가중치 W를 0으로 초기화하고 학습을 통해 값이 변경되는 변수임을 명시함. \n",
        "W = torch.zeros(1, requires_grad=True)\n",
        "# 가중치 W를 출력\n",
        "print(W)"
      ],
      "metadata": {
        "id": "WmoDf-PF-pNK"
      },
      "execution_count": null,
      "outputs": []
    },
    {
      "cell_type": "code",
      "source": [
        ""
      ],
      "metadata": {
        "id": "EvzFrlqH-0aj"
      },
      "execution_count": null,
      "outputs": []
    }
  ]
}