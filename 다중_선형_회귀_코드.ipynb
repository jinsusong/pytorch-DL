{
  "nbformat": 4,
  "nbformat_minor": 0,
  "metadata": {
    "colab": {
      "name": "다중 선형 회귀 코드.ipynb",
      "private_outputs": true,
      "provenance": [],
      "authorship_tag": "ABX9TyP53QvVnqauX2NYhL5IbtmS",
      "include_colab_link": true
    },
    "kernelspec": {
      "name": "python3",
      "display_name": "Python 3"
    },
    "language_info": {
      "name": "python"
    }
  },
  "cells": [
    {
      "cell_type": "markdown",
      "metadata": {
        "id": "view-in-github",
        "colab_type": "text"
      },
      "source": [
        "<a href=\"https://colab.research.google.com/github/jinsusong/study-pytorch-DL/blob/main/%EB%8B%A4%EC%A4%91_%EC%84%A0%ED%98%95_%ED%9A%8C%EA%B7%80_%EC%BD%94%EB%93%9C.ipynb\" target=\"_parent\"><img src=\"https://colab.research.google.com/assets/colab-badge.svg\" alt=\"Open In Colab\"/></a>"
      ]
    },
    {
      "cell_type": "markdown",
      "source": [
        "### 파이토치로 구현하기 \n"
      ],
      "metadata": {
        "id": "Gp0b5FsfSIj-"
      }
    },
    {
      "cell_type": "markdown",
      "source": [
        "필요한 도구들을 임포트하고 랜덤 시드를 고정한다. \n"
      ],
      "metadata": {
        "id": "tfgEB_QCSRuW"
      }
    },
    {
      "cell_type": "code",
      "source": [
        "import torch \n",
        "import torch.nn as nn\n",
        "import torch.nn.functional as F\n",
        "import torch.optim as optim\n"
      ],
      "metadata": {
        "id": "PaoPfFXbSUyd"
      },
      "execution_count": null,
      "outputs": []
    },
    {
      "cell_type": "code",
      "source": [
        "torch.manual_seed(1)\n"
      ],
      "metadata": {
        "id": "TB0V8EplSZqV"
      },
      "execution_count": null,
      "outputs": []
    },
    {
      "cell_type": "markdown",
      "source": [
        "훈련 데이터를 선언 "
      ],
      "metadata": {
        "id": "ENUhPyCmSbXr"
      }
    },
    {
      "cell_type": "code",
      "source": [
        "# 훈련 데이터\n",
        "x1_train = torch.FloatTensor([[73], [93], [89], [96], [73]])\n",
        "x2_train = torch.FloatTensor([[80], [88], [91], [98], [66]])\n",
        "x3_train = torch.FloatTensor([[75], [93], [90], [100], [70]])\n",
        "y_train = torch.FloatTensor([[152], [185], [180], [196], [142]])"
      ],
      "metadata": {
        "id": "aET_uEDzSdYM"
      },
      "execution_count": null,
      "outputs": []
    },
    {
      "cell_type": "markdown",
      "source": [
        "이제 가중치 W와 편향 b를 선언한다. 가중치 w도 3개를 선언해야한다. \n"
      ],
      "metadata": {
        "id": "YTCGoIOcS4yM"
      }
    },
    {
      "cell_type": "code",
      "source": [
        "# 가중치 w와 편향 b 초기화 \n",
        "w1 = torch.zeros(1,requires_grad=True)\n",
        "w2 = torch.zeros(1, requires_grad=True)\n",
        "w3 = torch.zeros(1, requires_grad=True)\n",
        "b = torch.zeros(1, requires_grad=True)\n",
        "\n"
      ],
      "metadata": {
        "id": "tTdJmR1OTEd2"
      },
      "execution_count": null,
      "outputs": []
    },
    {
      "cell_type": "markdown",
      "source": [
        "가설, 비용 함수, 옵티마이저를 선언한 후에 경사 하강법을 1,000회 반복한다. \n"
      ],
      "metadata": {
        "id": "6IQQqbRmTTxj"
      }
    },
    {
      "cell_type": "code",
      "source": [
        "\n",
        "# optimizer 설정 \n",
        "optimizer = optim.SGD([w1,w2,w3,b], lr=1e-5)\n",
        "\n",
        "nb_epochs = 1000\n",
        "for epoch in range(nb_epochs+ 1):\n",
        "\n",
        "    # H(x) 계산 \n",
        "    hypothesis = x1_train * w1 + x2_train * w2 + x3_train * w3 + b\n",
        "\n",
        "    # cost 계산 \n",
        "    cost = torch.mean((hypothesis - y_train) **2)\n",
        "\n",
        "    # cost 로 H(x) 개선 \n",
        "    optimizer.zero_grad()\n",
        "    cost.backward()\n",
        "    optimizer.step()\n",
        "\n",
        "    # 100번마다 로그 출력 \n",
        "    if epoch % 100 == 0 : \n",
        "        print('Epoch {:4d}/{} w1: {:.3f} w2: {:.3f} w3: {:.3f} b: {:.3f} Cost: {:.6f}'.format(\n",
        "        epoch, nb_epochs, w1.item(), w2.item(), w3.item(), b.item(), cost.item()\n",
        "    ))"
      ],
      "metadata": {
        "id": "GzfBufz4TY-3"
      },
      "execution_count": null,
      "outputs": []
    },
    {
      "cell_type": "code",
      "source": [
        ""
      ],
      "metadata": {
        "id": "6tfiYPGXUOii"
      },
      "execution_count": null,
      "outputs": []
    }
  ]
}