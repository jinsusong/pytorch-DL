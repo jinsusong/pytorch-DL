{
  "nbformat": 4,
  "nbformat_minor": 0,
  "metadata": {
    "colab": {
      "name": "PyTorch 패키지의 기본 구성.ipynb",
      "private_outputs": true,
      "provenance": [],
      "authorship_tag": "ABX9TyMFX3eRVUU4zgTBPQHxZrdc",
      "include_colab_link": true
    },
    "kernelspec": {
      "name": "python3",
      "display_name": "Python 3"
    },
    "language_info": {
      "name": "python"
    }
  },
  "cells": [
    {
      "cell_type": "markdown",
      "metadata": {
        "id": "view-in-github",
        "colab_type": "text"
      },
      "source": [
        "<a href=\"https://colab.research.google.com/github/jinsusong/study-pytorch-DL/blob/main/PyTorch_%ED%8C%A8%ED%82%A4%EC%A7%80%EC%9D%98_%EA%B8%B0%EB%B3%B8_%EA%B5%AC%EC%84%B1.ipynb\" target=\"_parent\"><img src=\"https://colab.research.google.com/assets/colab-badge.svg\" alt=\"Open In Colab\"/></a>"
      ]
    },
    {
      "cell_type": "markdown",
      "source": [
        "1. torch "
      ],
      "metadata": {
        "id": "DDO7-tFgkCSs"
      }
    },
    {
      "cell_type": "markdown",
      "source": [
        "- 메인 네임스페이스이다. \n",
        "- 텐서 등의 다양한 수학 함수가 포함되어져 있으면 Numpy와 유사한 구조를 가진다. \n",
        "\n"
      ],
      "metadata": {
        "id": "dw1CZPN8kWVe"
      }
    },
    {
      "cell_type": "markdown",
      "source": [
        "2. torch.autograd \n"
      ],
      "metadata": {
        "id": "w1Oc5FlHkcNH"
      }
    },
    {
      "cell_type": "markdown",
      "source": [
        "- 자동 비분을 위한 함수들이 포함되어져 있다 .\n",
        "- 자동 미분의 on/off를 제어하는 콘텍스트 매니저( enable_grad/no_grad)나 자체 미분 가능 함수를 정의할 때 사용하는 기반 클래스인 'Function' 등이 포함되어져 있다. \n"
      ],
      "metadata": {
        "id": "63SrV9STkfjP"
      }
    },
    {
      "cell_type": "markdown",
      "source": [
        "3. torch.nn"
      ],
      "metadata": {
        "id": "Msgz9xfWkuoT"
      }
    },
    {
      "cell_type": "markdown",
      "source": [
        "- 신경망을 구축하기 위한 다양한 데이터 구조나 레이어 등이 정의되어져있다. \n",
        "- RNN , LSTM과 같은 레이어, ReLU와 같은 활성화 함수, MSELoss와 같은 손실 함수들이 있다. \n"
      ],
      "metadata": {
        "id": "W5ozr7XUkwMO"
      }
    },
    {
      "cell_type": "markdown",
      "source": [
        "4. torch.optim "
      ],
      "metadata": {
        "id": "rFrKb8hak5qc"
      }
    },
    {
      "cell_type": "markdown",
      "source": [
        "- 확률적 경사 하강법(Stochastic Gradient Descent, SGD) 를 중심으로 한 파라미터 최적화 알고리즘이 구현되어져 있다. \n"
      ],
      "metadata": {
        "id": "1LPgOlusk7fJ"
      }
    },
    {
      "cell_type": "markdown",
      "source": [
        "5. torch.utils.data "
      ],
      "metadata": {
        "id": "H5LZD3AmlCcC"
      }
    },
    {
      "cell_type": "markdown",
      "source": [
        "- SGD의 방복 연산을 실행할 때 사용하는 미니 배치용 유틸리티 함수가 포함되어져 있다. \n"
      ],
      "metadata": {
        "id": "aj86iL9Ckf81"
      }
    },
    {
      "cell_type": "markdown",
      "source": [
        "6. torch.onnx "
      ],
      "metadata": {
        "id": "UfyBrq1SlMhv"
      }
    },
    {
      "cell_type": "markdown",
      "source": [
        "- ONNX(Open Neural Network Exchange)의 포맷으로 모델을 익스포트 할 때 사용한다. \n",
        "- ONNX는 서로 다른 딥 러닝 프레임워크 간에 모델을 공유할 때 사용하는 포맷이다. \n"
      ],
      "metadata": {
        "id": "JALAlCHclOs-"
      }
    },
    {
      "cell_type": "markdown",
      "source": [
        "출처 : https://wikidocs.net/57168"
      ],
      "metadata": {
        "id": "YVi_m57ZlLxp"
      }
    }
  ]
}